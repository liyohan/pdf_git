{
 "cells": [
  {
   "cell_type": "code",
   "execution_count": 9,
   "metadata": {},
   "outputs": [],
   "source": [
    "import pandas as pd \n",
    "import numpy as np\n",
    "import matplotlib.pyplot as plt\n",
    "\n",
    "from sklearn.ensemble import RandomForestClassifier\n",
    "from sklearn.model_selection import cross_val_score\n",
    "from sklearn.model_selection import train_test_split\n",
    "from sklearn.model_selection import GridSearchCV\n",
    "from sklearn.externals import joblib\n",
    "\n",
    "from sklearn.preprocessing import StandardScaler\n",
    "from sklearn.preprocessing import MinMaxScaler"
   ]
  },
  {
   "cell_type": "code",
   "execution_count": 10,
   "metadata": {},
   "outputs": [],
   "source": [
    "file1 = pd.read_csv('model5_return已标注段落.csv',encoding='gbk')\n",
    "file2 = pd.read_csv('model6_return段落已标注.csv',encoding='gbk')\n",
    "file = pd.concat([file1,file2])"
   ]
  },
  {
   "cell_type": "code",
   "execution_count": 11,
   "metadata": {},
   "outputs": [],
   "source": [
    "file3 = pd.read_csv('model8_return修正.csv',encoding='gbk')"
   ]
  },
  {
   "cell_type": "code",
   "execution_count": 12,
   "metadata": {},
   "outputs": [],
   "source": [
    "file3 = file3.loc[file3['type'] == 'para']"
   ]
  },
  {
   "cell_type": "code",
   "execution_count": 13,
   "metadata": {
    "scrolled": true
   },
   "outputs": [],
   "source": [
    "file3['continue'] = file3.apply(lambda x:x['is_para'] if str(x['xiuzheng']) == 'nan' else x['xiuzheng'], axis=1)"
   ]
  },
  {
   "cell_type": "code",
   "execution_count": 15,
   "metadata": {},
   "outputs": [],
   "source": [
    "file3.drop(['xiuzheng','is_para'], inplace=True, axis=1)"
   ]
  },
  {
   "cell_type": "code",
   "execution_count": 16,
   "metadata": {
    "scrolled": true
   },
   "outputs": [],
   "source": [
    "file = pd.concat([file, file3])"
   ]
  },
  {
   "cell_type": "code",
   "execution_count": 17,
   "metadata": {},
   "outputs": [
    {
     "name": "stdout",
     "output_type": "stream",
     "text": [
      "<class 'pandas.core.frame.DataFrame'>\n",
      "Int64Index: 1058 entries, 0 to 2606\n",
      "Data columns (total 22 columns):\n",
      "Unnamed: 0            1058 non-null int64\n",
      "adv                   1058 non-null float64\n",
      "bottom                1058 non-null float64\n",
      "cod                   1058 non-null int64\n",
      "doctop                1058 non-null float64\n",
      "fontname              1058 non-null object\n",
      "height                1058 non-null float64\n",
      "non_stroking_color    1058 non-null object\n",
      "object_type           1058 non-null object\n",
      "page_number           1058 non-null float64\n",
      "size                  1058 non-null float64\n",
      "stroking_color        645 non-null object\n",
      "text                  1058 non-null object\n",
      "top                   1058 non-null float64\n",
      "type                  1058 non-null object\n",
      "upright               1058 non-null object\n",
      "width                 1058 non-null float64\n",
      "x0                    1058 non-null float64\n",
      "x1                    1058 non-null float64\n",
      "y0                    1058 non-null float64\n",
      "y1                    1058 non-null float64\n",
      "continue              692 non-null float64\n",
      "dtypes: float64(13), int64(2), object(7)\n",
      "memory usage: 190.1+ KB\n"
     ]
    }
   ],
   "source": [
    "file.info()"
   ]
  },
  {
   "cell_type": "code",
   "execution_count": 18,
   "metadata": {},
   "outputs": [],
   "source": [
    "para_data = file.loc[file['type']=='para']\n",
    "#file_next_value = para_data[['x0','x1','y0','y1','top','bottom','doctop','size','height','width','adv']]\n",
    "#file_next_value.rename(columns = {\n",
    "#    'x0':'x2','x1':'x3','y0':'y2','y1':'y3','top':'top1','bottom':'bottom1','size':'size1',\n",
    "#    'height':'height1','width':'width1','adv':'adv1'\n",
    "#}, inplace=True)\n"
   ]
  },
  {
   "cell_type": "code",
   "execution_count": 19,
   "metadata": {
    "scrolled": true
   },
   "outputs": [
    {
     "name": "stderr",
     "output_type": "stream",
     "text": [
      "/home/sunday/anaconda3/lib/python3.6/site-packages/ipykernel_launcher.py:5: SettingWithCopyWarning: \n",
      "A value is trying to be set on a copy of a slice from a DataFrame.\n",
      "Try using .loc[row_indexer,col_indexer] = value instead\n",
      "\n",
      "See the caveats in the documentation: http://pandas.pydata.org/pandas-docs/stable/indexing.html#indexing-view-versus-copy\n",
      "  \"\"\"\n"
     ]
    }
   ],
   "source": [
    "for i in ['x0','x1','y0','y1','top','bottom','doctop','size','height','width','adv']:\n",
    "    new_data = para_data[i].tolist()[1:]\n",
    "    new_data.append(0)\n",
    "    \n",
    "    para_data[i+'_next'] = new_data"
   ]
  },
  {
   "cell_type": "code",
   "execution_count": 20,
   "metadata": {
    "scrolled": true
   },
   "outputs": [
    {
     "name": "stderr",
     "output_type": "stream",
     "text": [
      "/home/sunday/anaconda3/lib/python3.6/site-packages/ipykernel_launcher.py:1: SettingWithCopyWarning: \n",
      "A value is trying to be set on a copy of a slice from a DataFrame.\n",
      "Try using .loc[row_indexer,col_indexer] = value instead\n",
      "\n",
      "See the caveats in the documentation: http://pandas.pydata.org/pandas-docs/stable/indexing.html#indexing-view-versus-copy\n",
      "  \"\"\"Entry point for launching an IPython kernel.\n"
     ]
    }
   ],
   "source": [
    "para_data['len_str'] = para_data['text'].apply(lambda x:len(x))"
   ]
  },
  {
   "cell_type": "code",
   "execution_count": 21,
   "metadata": {
    "scrolled": true
   },
   "outputs": [
    {
     "name": "stderr",
     "output_type": "stream",
     "text": [
      "/home/sunday/anaconda3/lib/python3.6/site-packages/ipykernel_launcher.py:1: SettingWithCopyWarning: \n",
      "A value is trying to be set on a copy of a slice from a DataFrame.\n",
      "Try using .loc[row_indexer,col_indexer] = value instead\n",
      "\n",
      "See the caveats in the documentation: http://pandas.pydata.org/pandas-docs/stable/indexing.html#indexing-view-versus-copy\n",
      "  \"\"\"Entry point for launching an IPython kernel.\n"
     ]
    }
   ],
   "source": [
    "para_data['is_mulu'] = para_data['text'].apply(lambda x:1 if '......' in x else 0)"
   ]
  },
  {
   "cell_type": "code",
   "execution_count": 22,
   "metadata": {
    "scrolled": false
   },
   "outputs": [
    {
     "data": {
      "text/html": [
       "<div>\n",
       "<style scoped>\n",
       "    .dataframe tbody tr th:only-of-type {\n",
       "        vertical-align: middle;\n",
       "    }\n",
       "\n",
       "    .dataframe tbody tr th {\n",
       "        vertical-align: top;\n",
       "    }\n",
       "\n",
       "    .dataframe thead th {\n",
       "        text-align: right;\n",
       "    }\n",
       "</style>\n",
       "<table border=\"1\" class=\"dataframe\">\n",
       "  <thead>\n",
       "    <tr style=\"text-align: right;\">\n",
       "      <th></th>\n",
       "      <th>Unnamed: 0</th>\n",
       "      <th>adv</th>\n",
       "      <th>bottom</th>\n",
       "      <th>cod</th>\n",
       "      <th>doctop</th>\n",
       "      <th>fontname</th>\n",
       "      <th>height</th>\n",
       "      <th>non_stroking_color</th>\n",
       "      <th>object_type</th>\n",
       "      <th>page_number</th>\n",
       "      <th>...</th>\n",
       "      <th>y1_next</th>\n",
       "      <th>top_next</th>\n",
       "      <th>bottom_next</th>\n",
       "      <th>doctop_next</th>\n",
       "      <th>size_next</th>\n",
       "      <th>height_next</th>\n",
       "      <th>width_next</th>\n",
       "      <th>adv_next</th>\n",
       "      <th>len_str</th>\n",
       "      <th>is_mulu</th>\n",
       "    </tr>\n",
       "  </thead>\n",
       "  <tbody>\n",
       "    <tr>\n",
       "      <th>0</th>\n",
       "      <td>0</td>\n",
       "      <td>1.00</td>\n",
       "      <td>207.277</td>\n",
       "      <td>0</td>\n",
       "      <td>187.297</td>\n",
       "      <td>ZWIVFZ+FangSong</td>\n",
       "      <td>19.98</td>\n",
       "      <td>[0]</td>\n",
       "      <td>char</td>\n",
       "      <td>1.0</td>\n",
       "      <td>...</td>\n",
       "      <td>623.423</td>\n",
       "      <td>218.497</td>\n",
       "      <td>238.477</td>\n",
       "      <td>218.497</td>\n",
       "      <td>19.98</td>\n",
       "      <td>19.98</td>\n",
       "      <td>19.980</td>\n",
       "      <td>1.00</td>\n",
       "      <td>16</td>\n",
       "      <td>0</td>\n",
       "    </tr>\n",
       "    <tr>\n",
       "      <th>1</th>\n",
       "      <td>1</td>\n",
       "      <td>1.00</td>\n",
       "      <td>238.477</td>\n",
       "      <td>1</td>\n",
       "      <td>218.497</td>\n",
       "      <td>ZWIVFZ+FangSong</td>\n",
       "      <td>19.98</td>\n",
       "      <td>[0]</td>\n",
       "      <td>char</td>\n",
       "      <td>1.0</td>\n",
       "      <td>...</td>\n",
       "      <td>592.223</td>\n",
       "      <td>249.697</td>\n",
       "      <td>269.677</td>\n",
       "      <td>249.697</td>\n",
       "      <td>19.98</td>\n",
       "      <td>19.98</td>\n",
       "      <td>19.980</td>\n",
       "      <td>1.00</td>\n",
       "      <td>4</td>\n",
       "      <td>0</td>\n",
       "    </tr>\n",
       "    <tr>\n",
       "      <th>2</th>\n",
       "      <td>2</td>\n",
       "      <td>1.00</td>\n",
       "      <td>269.677</td>\n",
       "      <td>2</td>\n",
       "      <td>249.697</td>\n",
       "      <td>ZWIVFZ+FangSong</td>\n",
       "      <td>19.98</td>\n",
       "      <td>[0]</td>\n",
       "      <td>char</td>\n",
       "      <td>1.0</td>\n",
       "      <td>...</td>\n",
       "      <td>588.947</td>\n",
       "      <td>252.973</td>\n",
       "      <td>272.953</td>\n",
       "      <td>252.973</td>\n",
       "      <td>19.98</td>\n",
       "      <td>19.98</td>\n",
       "      <td>4.995</td>\n",
       "      <td>0.25</td>\n",
       "      <td>10</td>\n",
       "      <td>0</td>\n",
       "    </tr>\n",
       "    <tr>\n",
       "      <th>3</th>\n",
       "      <td>3</td>\n",
       "      <td>0.25</td>\n",
       "      <td>272.953</td>\n",
       "      <td>3</td>\n",
       "      <td>252.973</td>\n",
       "      <td>TimesNewRomanPS-BoldMT</td>\n",
       "      <td>19.98</td>\n",
       "      <td>[0]</td>\n",
       "      <td>char</td>\n",
       "      <td>1.0</td>\n",
       "      <td>...</td>\n",
       "      <td>447.325</td>\n",
       "      <td>391.967</td>\n",
       "      <td>407.987</td>\n",
       "      <td>391.967</td>\n",
       "      <td>16.02</td>\n",
       "      <td>16.02</td>\n",
       "      <td>16.020</td>\n",
       "      <td>1.00</td>\n",
       "      <td>4</td>\n",
       "      <td>0</td>\n",
       "    </tr>\n",
       "    <tr>\n",
       "      <th>4</th>\n",
       "      <td>4</td>\n",
       "      <td>1.00</td>\n",
       "      <td>407.987</td>\n",
       "      <td>4</td>\n",
       "      <td>391.967</td>\n",
       "      <td>ZWIVFZ+FangSong</td>\n",
       "      <td>16.02</td>\n",
       "      <td>[0]</td>\n",
       "      <td>char</td>\n",
       "      <td>1.0</td>\n",
       "      <td>...</td>\n",
       "      <td>419.016</td>\n",
       "      <td>421.188</td>\n",
       "      <td>433.188</td>\n",
       "      <td>421.188</td>\n",
       "      <td>12.00</td>\n",
       "      <td>12.00</td>\n",
       "      <td>12.000</td>\n",
       "      <td>1.00</td>\n",
       "      <td>16</td>\n",
       "      <td>0</td>\n",
       "    </tr>\n",
       "  </tbody>\n",
       "</table>\n",
       "<p>5 rows × 35 columns</p>\n",
       "</div>"
      ],
      "text/plain": [
       "   Unnamed: 0   adv   bottom  cod   doctop                fontname  height  \\\n",
       "0           0  1.00  207.277    0  187.297         ZWIVFZ+FangSong   19.98   \n",
       "1           1  1.00  238.477    1  218.497         ZWIVFZ+FangSong   19.98   \n",
       "2           2  1.00  269.677    2  249.697         ZWIVFZ+FangSong   19.98   \n",
       "3           3  0.25  272.953    3  252.973  TimesNewRomanPS-BoldMT   19.98   \n",
       "4           4  1.00  407.987    4  391.967         ZWIVFZ+FangSong   16.02   \n",
       "\n",
       "  non_stroking_color object_type  page_number   ...     y1_next top_next  \\\n",
       "0                [0]        char          1.0   ...     623.423  218.497   \n",
       "1                [0]        char          1.0   ...     592.223  249.697   \n",
       "2                [0]        char          1.0   ...     588.947  252.973   \n",
       "3                [0]        char          1.0   ...     447.325  391.967   \n",
       "4                [0]        char          1.0   ...     419.016  421.188   \n",
       "\n",
       "  bottom_next  doctop_next size_next height_next  width_next  adv_next  \\\n",
       "0     238.477      218.497     19.98       19.98      19.980      1.00   \n",
       "1     269.677      249.697     19.98       19.98      19.980      1.00   \n",
       "2     272.953      252.973     19.98       19.98       4.995      0.25   \n",
       "3     407.987      391.967     16.02       16.02      16.020      1.00   \n",
       "4     433.188      421.188     12.00       12.00      12.000      1.00   \n",
       "\n",
       "   len_str  is_mulu  \n",
       "0       16        0  \n",
       "1        4        0  \n",
       "2       10        0  \n",
       "3        4        0  \n",
       "4       16        0  \n",
       "\n",
       "[5 rows x 35 columns]"
      ]
     },
     "execution_count": 22,
     "metadata": {},
     "output_type": "execute_result"
    }
   ],
   "source": [
    "para_data.head()"
   ]
  },
  {
   "cell_type": "code",
   "execution_count": 23,
   "metadata": {
    "scrolled": true
   },
   "outputs": [
    {
     "data": {
      "text/plain": [
       "Index(['Unnamed: 0', 'adv', 'bottom', 'cod', 'doctop', 'fontname', 'height',\n",
       "       'non_stroking_color', 'object_type', 'page_number', 'size',\n",
       "       'stroking_color', 'text', 'top', 'type', 'upright', 'width', 'x0', 'x1',\n",
       "       'y0', 'y1', 'continue', 'x0_next', 'x1_next', 'y0_next', 'y1_next',\n",
       "       'top_next', 'bottom_next', 'doctop_next', 'size_next', 'height_next',\n",
       "       'width_next', 'adv_next', 'len_str', 'is_mulu'],\n",
       "      dtype='object')"
      ]
     },
     "execution_count": 23,
     "metadata": {},
     "output_type": "execute_result"
    }
   ],
   "source": [
    "para_data.columns"
   ]
  },
  {
   "cell_type": "code",
   "execution_count": 24,
   "metadata": {
    "scrolled": true
   },
   "outputs": [
    {
     "name": "stderr",
     "output_type": "stream",
     "text": [
      "/home/sunday/anaconda3/lib/python3.6/site-packages/pandas/core/frame.py:3694: SettingWithCopyWarning: \n",
      "A value is trying to be set on a copy of a slice from a DataFrame\n",
      "\n",
      "See the caveats in the documentation: http://pandas.pydata.org/pandas-docs/stable/indexing.html#indexing-view-versus-copy\n",
      "  errors=errors)\n"
     ]
    }
   ],
   "source": [
    "para_data.drop(['Unnamed: 0','fontname','text','object_type','upright','type'],axis=1,inplace=True)"
   ]
  },
  {
   "cell_type": "code",
   "execution_count": 25,
   "metadata": {},
   "outputs": [
    {
     "name": "stderr",
     "output_type": "stream",
     "text": [
      "/home/sunday/anaconda3/lib/python3.6/site-packages/pandas/core/frame.py:3694: SettingWithCopyWarning: \n",
      "A value is trying to be set on a copy of a slice from a DataFrame\n",
      "\n",
      "See the caveats in the documentation: http://pandas.pydata.org/pandas-docs/stable/indexing.html#indexing-view-versus-copy\n",
      "  errors=errors)\n"
     ]
    }
   ],
   "source": [
    "para_data.drop(['non_stroking_color','stroking_color'],axis=1,inplace=True)"
   ]
  },
  {
   "cell_type": "code",
   "execution_count": 16,
   "metadata": {},
   "outputs": [
    {
     "name": "stderr",
     "output_type": "stream",
     "text": [
      "/home/sunday/anaconda3/lib/python3.6/site-packages/ipykernel_launcher.py:10: SettingWithCopyWarning: \n",
      "A value is trying to be set on a copy of a slice from a DataFrame.\n",
      "Try using .loc[row_indexer,col_indexer] = value instead\n",
      "\n",
      "See the caveats in the documentation: http://pandas.pydata.org/pandas-docs/stable/indexing.html#indexing-view-versus-copy\n",
      "  # Remove the CWD from sys.path while we load stuff.\n",
      "/home/sunday/anaconda3/lib/python3.6/site-packages/pandas/core/indexing.py:543: SettingWithCopyWarning: \n",
      "A value is trying to be set on a copy of a slice from a DataFrame.\n",
      "Try using .loc[row_indexer,col_indexer] = value instead\n",
      "\n",
      "See the caveats in the documentation: http://pandas.pydata.org/pandas-docs/stable/indexing.html#indexing-view-versus-copy\n",
      "  self.obj[item] = s\n"
     ]
    }
   ],
   "source": [
    "# 归一化处理\n",
    "clf = MinMaxScaler().fit_transform(para_data[['bottom', 'doctop', 'height', 'size',\n",
    "       'top', 'width', 'x0', 'x1', 'y0', 'y1', 'x0_next', 'x1_next', 'y0_next',\n",
    "       'y1_next', 'top_next', 'bottom_next', 'doctop_next', 'size_next',\n",
    "       'height_next', 'width_next', 'adv_next']])\n",
    "\n",
    "para_data[['bottom', 'doctop', 'height', 'size',\n",
    "       'top', 'width', 'x0', 'x1', 'y0', 'y1', 'x0_next', 'x1_next', 'y0_next',\n",
    "       'y1_next', 'top_next', 'bottom_next', 'doctop_next', 'size_next',\n",
    "       'height_next', 'width_next', 'adv_next']] = clf\n"
   ]
  },
  {
   "cell_type": "code",
   "execution_count": 26,
   "metadata": {
    "scrolled": true
   },
   "outputs": [
    {
     "data": {
      "text/html": [
       "<div>\n",
       "<style scoped>\n",
       "    .dataframe tbody tr th:only-of-type {\n",
       "        vertical-align: middle;\n",
       "    }\n",
       "\n",
       "    .dataframe tbody tr th {\n",
       "        vertical-align: top;\n",
       "    }\n",
       "\n",
       "    .dataframe thead th {\n",
       "        text-align: right;\n",
       "    }\n",
       "</style>\n",
       "<table border=\"1\" class=\"dataframe\">\n",
       "  <thead>\n",
       "    <tr style=\"text-align: right;\">\n",
       "      <th></th>\n",
       "      <th>adv</th>\n",
       "      <th>bottom</th>\n",
       "      <th>cod</th>\n",
       "      <th>doctop</th>\n",
       "      <th>height</th>\n",
       "      <th>page_number</th>\n",
       "      <th>size</th>\n",
       "      <th>top</th>\n",
       "      <th>width</th>\n",
       "      <th>x0</th>\n",
       "      <th>...</th>\n",
       "      <th>y1_next</th>\n",
       "      <th>top_next</th>\n",
       "      <th>bottom_next</th>\n",
       "      <th>doctop_next</th>\n",
       "      <th>size_next</th>\n",
       "      <th>height_next</th>\n",
       "      <th>width_next</th>\n",
       "      <th>adv_next</th>\n",
       "      <th>len_str</th>\n",
       "      <th>is_mulu</th>\n",
       "    </tr>\n",
       "  </thead>\n",
       "  <tbody>\n",
       "    <tr>\n",
       "      <th>0</th>\n",
       "      <td>1.00</td>\n",
       "      <td>207.277</td>\n",
       "      <td>0</td>\n",
       "      <td>187.297</td>\n",
       "      <td>19.98</td>\n",
       "      <td>1.0</td>\n",
       "      <td>19.98</td>\n",
       "      <td>187.297</td>\n",
       "      <td>19.980</td>\n",
       "      <td>136.980</td>\n",
       "      <td>...</td>\n",
       "      <td>623.423</td>\n",
       "      <td>218.497</td>\n",
       "      <td>238.477</td>\n",
       "      <td>218.497</td>\n",
       "      <td>19.98</td>\n",
       "      <td>19.98</td>\n",
       "      <td>19.980</td>\n",
       "      <td>1.00</td>\n",
       "      <td>16</td>\n",
       "      <td>0</td>\n",
       "    </tr>\n",
       "    <tr>\n",
       "      <th>1</th>\n",
       "      <td>1.00</td>\n",
       "      <td>238.477</td>\n",
       "      <td>1</td>\n",
       "      <td>218.497</td>\n",
       "      <td>19.98</td>\n",
       "      <td>1.0</td>\n",
       "      <td>19.98</td>\n",
       "      <td>218.497</td>\n",
       "      <td>19.980</td>\n",
       "      <td>257.460</td>\n",
       "      <td>...</td>\n",
       "      <td>592.223</td>\n",
       "      <td>249.697</td>\n",
       "      <td>269.677</td>\n",
       "      <td>249.697</td>\n",
       "      <td>19.98</td>\n",
       "      <td>19.98</td>\n",
       "      <td>19.980</td>\n",
       "      <td>1.00</td>\n",
       "      <td>4</td>\n",
       "      <td>0</td>\n",
       "    </tr>\n",
       "    <tr>\n",
       "      <th>2</th>\n",
       "      <td>1.00</td>\n",
       "      <td>269.677</td>\n",
       "      <td>2</td>\n",
       "      <td>249.697</td>\n",
       "      <td>19.98</td>\n",
       "      <td>1.0</td>\n",
       "      <td>19.98</td>\n",
       "      <td>249.697</td>\n",
       "      <td>19.980</td>\n",
       "      <td>219.720</td>\n",
       "      <td>...</td>\n",
       "      <td>588.947</td>\n",
       "      <td>252.973</td>\n",
       "      <td>272.953</td>\n",
       "      <td>252.973</td>\n",
       "      <td>19.98</td>\n",
       "      <td>19.98</td>\n",
       "      <td>4.995</td>\n",
       "      <td>0.25</td>\n",
       "      <td>10</td>\n",
       "      <td>0</td>\n",
       "    </tr>\n",
       "    <tr>\n",
       "      <th>3</th>\n",
       "      <td>0.25</td>\n",
       "      <td>272.953</td>\n",
       "      <td>3</td>\n",
       "      <td>252.973</td>\n",
       "      <td>19.98</td>\n",
       "      <td>1.0</td>\n",
       "      <td>19.98</td>\n",
       "      <td>252.973</td>\n",
       "      <td>4.995</td>\n",
       "      <td>174.723</td>\n",
       "      <td>...</td>\n",
       "      <td>447.325</td>\n",
       "      <td>391.967</td>\n",
       "      <td>407.987</td>\n",
       "      <td>391.967</td>\n",
       "      <td>16.02</td>\n",
       "      <td>16.02</td>\n",
       "      <td>16.020</td>\n",
       "      <td>1.00</td>\n",
       "      <td>4</td>\n",
       "      <td>0</td>\n",
       "    </tr>\n",
       "    <tr>\n",
       "      <th>4</th>\n",
       "      <td>1.00</td>\n",
       "      <td>407.987</td>\n",
       "      <td>4</td>\n",
       "      <td>391.967</td>\n",
       "      <td>16.02</td>\n",
       "      <td>1.0</td>\n",
       "      <td>16.02</td>\n",
       "      <td>391.967</td>\n",
       "      <td>16.020</td>\n",
       "      <td>169.140</td>\n",
       "      <td>...</td>\n",
       "      <td>419.016</td>\n",
       "      <td>421.188</td>\n",
       "      <td>433.188</td>\n",
       "      <td>421.188</td>\n",
       "      <td>12.00</td>\n",
       "      <td>12.00</td>\n",
       "      <td>12.000</td>\n",
       "      <td>1.00</td>\n",
       "      <td>16</td>\n",
       "      <td>0</td>\n",
       "    </tr>\n",
       "  </tbody>\n",
       "</table>\n",
       "<p>5 rows × 27 columns</p>\n",
       "</div>"
      ],
      "text/plain": [
       "    adv   bottom  cod   doctop  height  page_number   size      top   width  \\\n",
       "0  1.00  207.277    0  187.297   19.98          1.0  19.98  187.297  19.980   \n",
       "1  1.00  238.477    1  218.497   19.98          1.0  19.98  218.497  19.980   \n",
       "2  1.00  269.677    2  249.697   19.98          1.0  19.98  249.697  19.980   \n",
       "3  0.25  272.953    3  252.973   19.98          1.0  19.98  252.973   4.995   \n",
       "4  1.00  407.987    4  391.967   16.02          1.0  16.02  391.967  16.020   \n",
       "\n",
       "        x0   ...     y1_next  top_next  bottom_next  doctop_next  size_next  \\\n",
       "0  136.980   ...     623.423   218.497      238.477      218.497      19.98   \n",
       "1  257.460   ...     592.223   249.697      269.677      249.697      19.98   \n",
       "2  219.720   ...     588.947   252.973      272.953      252.973      19.98   \n",
       "3  174.723   ...     447.325   391.967      407.987      391.967      16.02   \n",
       "4  169.140   ...     419.016   421.188      433.188      421.188      12.00   \n",
       "\n",
       "   height_next  width_next  adv_next  len_str  is_mulu  \n",
       "0        19.98      19.980      1.00       16        0  \n",
       "1        19.98      19.980      1.00        4        0  \n",
       "2        19.98       4.995      0.25       10        0  \n",
       "3        16.02      16.020      1.00        4        0  \n",
       "4        12.00      12.000      1.00       16        0  \n",
       "\n",
       "[5 rows x 27 columns]"
      ]
     },
     "execution_count": 26,
     "metadata": {},
     "output_type": "execute_result"
    }
   ],
   "source": [
    "para_data.head()"
   ]
  },
  {
   "cell_type": "code",
   "execution_count": 27,
   "metadata": {},
   "outputs": [],
   "source": [
    "y_file = para_data['continue']\n",
    "x_file = para_data.drop('continue', axis=1)"
   ]
  },
  {
   "cell_type": "code",
   "execution_count": 28,
   "metadata": {},
   "outputs": [
    {
     "name": "stdout",
     "output_type": "stream",
     "text": [
      "0.8927414444038483\n"
     ]
    },
    {
     "data": {
      "image/png": "[encoded data removed]",
      "text/plain": [
       "<Figure size 432x288 with 1 Axes>"
      ]
     },
     "metadata": {},
     "output_type": "display_data"
    }
   ],
   "source": [
    "score_list = []\n",
    "\n",
    "for i in range(100):\n",
    "    clf = RandomForestClassifier(max_depth=1+i,criterion='entropy')\n",
    "    score = cross_val_score(clf,x_file, y_file, cv =10)\n",
    "    score_list.append(score.mean())\n",
    "    \n",
    "print(max(score_list))\n",
    "plt.plot(range(1,101),score_list)\n",
    "plt.show()"
   ]
  },
  {
   "cell_type": "code",
   "execution_count": 29,
   "metadata": {},
   "outputs": [
    {
     "name": "stdout",
     "output_type": "stream",
     "text": [
      "0.8972810863475825\n"
     ]
    },
    {
     "data": {
      "image/png": "[encoded data removed]",
      "text/plain": [
       "<Figure size 432x288 with 1 Axes>"
      ]
     },
     "metadata": {},
     "output_type": "display_data"
    }
   ],
   "source": [
    "score_list = []\n",
    "\n",
    "for i in range(100):\n",
    "    clf = RandomForestClassifier(max_depth=1+i,criterion='gini')\n",
    "    score = cross_val_score(clf,x_file, y_file, cv =10)\n",
    "    score_list.append(score.mean())\n",
    "    \n",
    "print(max(score_list))\n",
    "plt.plot(range(1,101),score_list)\n",
    "plt.show()"
   ]
  },
  {
   "cell_type": "code",
   "execution_count": 138,
   "metadata": {},
   "outputs": [],
   "source": [
    "parameters = {\n",
    "    'n_estimators':[*range(94,100)],\n",
    "    'max_features':[*range(4,12)],\n",
    "    'criterion':['gini'],\n",
    "    'max_depth':[*range(3,6)],\n",
    "    #'max_features':['auto','sqrt','log2',None],\n",
    "    #'min_samples_split':[*np.linspace(0.00000001,1,50)]\n",
    "}\n",
    "\n",
    "\n",
    "rfc = RandomForestClassifier()\n",
    "gs = GridSearchCV(rfc, parameters, cv=10)"
   ]
  },
  {
   "cell_type": "code",
   "execution_count": 139,
   "metadata": {},
   "outputs": [
    {
     "data": {
      "text/plain": [
       "GridSearchCV(cv=10, error_score='raise',\n",
       "       estimator=RandomForestClassifier(bootstrap=True, class_weight=None, criterion='gini',\n",
       "            max_depth=None, max_features='auto', max_leaf_nodes=None,\n",
       "            min_impurity_decrease=0.0, min_impurity_split=None,\n",
       "            min_samples_leaf=1, min_samples_split=2,\n",
       "            min_weight_fraction_leaf=0.0, n_estimators=10, n_jobs=1,\n",
       "            oob_score=False, random_state=None, verbose=0,\n",
       "            warm_start=False),\n",
       "       fit_params=None, iid=True, n_jobs=1,\n",
       "       param_grid={'n_estimators': [94, 95, 96, 97, 98, 99], 'max_features': [4, 5, 6, 7, 8, 9, 10, 11], 'criterion': ['gini'], 'max_depth': [3, 4, 5]},\n",
       "       pre_dispatch='2*n_jobs', refit=True, return_train_score='warn',\n",
       "       scoring=None, verbose=0)"
      ]
     },
     "execution_count": 139,
     "metadata": {},
     "output_type": "execute_result"
    }
   ],
   "source": [
    "gs.fit(x_file,y_file)"
   ]
  },
  {
   "cell_type": "code",
   "execution_count": 140,
   "metadata": {},
   "outputs": [
    {
     "data": {
      "text/plain": [
       "0.9674267100977199"
      ]
     },
     "execution_count": 140,
     "metadata": {},
     "output_type": "execute_result"
    }
   ],
   "source": [
    "gs.best_score_"
   ]
  },
  {
   "cell_type": "code",
   "execution_count": 145,
   "metadata": {},
   "outputs": [
    {
     "data": {
      "text/plain": [
       "RandomForestClassifier(bootstrap=True, class_weight=None, criterion='gini',\n",
       "            max_depth=4, max_features=8, max_leaf_nodes=None,\n",
       "            min_impurity_decrease=0.0, min_impurity_split=None,\n",
       "            min_samples_leaf=1, min_samples_split=2,\n",
       "            min_weight_fraction_leaf=0.0, n_estimators=95, n_jobs=1,\n",
       "            oob_score=False, random_state=None, verbose=0,\n",
       "            warm_start=False)"
      ]
     },
     "execution_count": 145,
     "metadata": {},
     "output_type": "execute_result"
    }
   ],
   "source": [
    "gs.best_estimator_"
   ]
  },
  {
   "cell_type": "code",
   "execution_count": 147,
   "metadata": {},
   "outputs": [
    {
     "data": {
      "text/plain": [
       "['para_git.pkl']"
      ]
     },
     "execution_count": 147,
     "metadata": {},
     "output_type": "execute_result"
    }
   ],
   "source": [
    "joblib.dump( gs.best_estimator_,'para_git.pkl')"
   ]
  },
  {
   "cell_type": "code",
   "execution_count": 141,
   "metadata": {},
   "outputs": [
    {
     "data": {
      "text/plain": [
       "{'criterion': 'gini', 'max_depth': 4, 'max_features': 8, 'n_estimators': 95}"
      ]
     },
     "execution_count": 141,
     "metadata": {},
     "output_type": "execute_result"
    }
   ],
   "source": [
    "gs.best_params_"
   ]
  },
  {
   "cell_type": "code",
   "execution_count": 142,
   "metadata": {},
   "outputs": [
    {
     "data": {
      "image/png": "[encoded data removed]",
      "text/plain": [
       "<Figure size 432x288 with 1 Axes>"
      ]
     },
     "metadata": {},
     "output_type": "display_data"
    }
   ],
   "source": [
    "score_list = []\n",
    "\n",
    "for i in range(1,25):\n",
    "    rfc = RandomForestClassifier(max_depth=6, max_features=i, n_estimators=94)\n",
    "    rfc = cross_val_score(rfc,x_file,y_file,cv=10)\n",
    "    score_list.append(rfc.mean())\n",
    "\n",
    "plt.plot(range(1,25),score_list)\n",
    "plt.show()\n"
   ]
  },
  {
   "cell_type": "code",
   "execution_count": 143,
   "metadata": {},
   "outputs": [
    {
     "data": {
      "text/plain": [
       "0.9674193548387097"
      ]
     },
     "execution_count": 143,
     "metadata": {},
     "output_type": "execute_result"
    }
   ],
   "source": [
    "max(score_list)"
   ]
  },
  {
   "cell_type": "code",
   "execution_count": 144,
   "metadata": {},
   "outputs": [
    {
     "data": {
      "text/plain": [
       "24"
      ]
     },
     "execution_count": 144,
     "metadata": {},
     "output_type": "execute_result"
    }
   ],
   "source": [
    "len(score_list)"
   ]
  },
  {
   "cell_type": "code",
   "execution_count": 148,
   "metadata": {},
   "outputs": [
    {
     "data": {
      "text/plain": [
       "Index(['adv', 'bottom', 'cod', 'doctop', 'height', 'page_number', 'size',\n",
       "       'top', 'width', 'x0', 'x1', 'y0', 'y1', 'x0_next', 'x1_next', 'y0_next',\n",
       "       'y1_next', 'top_next', 'bottom_next', 'doctop_next', 'size_next',\n",
       "       'height_next', 'width_next', 'adv_next', 'len_str', 'is_mulu'],\n",
       "      dtype='object')"
      ]
     },
     "execution_count": 148,
     "metadata": {},
     "output_type": "execute_result"
    }
   ],
   "source": [
    "x_file.columns"
   ]
  },
  {
   "cell_type": "code",
   "execution_count": null,
   "metadata": {},
   "outputs": [],
   "source": []
  }
 ],
 "metadata": {
  "kernelspec": {
   "display_name": "Python 3",
   "language": "python",
   "name": "python3"
  },
  "language_info": {
   "codemirror_mode": {
    "name": "ipython",
    "version": 3
   },
   "file_extension": ".py",
   "mimetype": "text/x-python",
   "name": "python",
   "nbconvert_exporter": "python",
   "pygments_lexer": "ipython3",
   "version": "3.6.5"
  }
 },
 "nbformat": 4,
 "nbformat_minor": 2
}
