{
 "cells": [
  {
   "cell_type": "code",
   "execution_count": 9,
   "metadata": {},
   "outputs": [],
   "source": [
    "import pandas as pd \n",
    "import numpy as np\n",
    "import matplotlib.pyplot as plt\n",
    "\n",
    "from sklearn.ensemble import RandomForestClassifier\n",
    "from sklearn.model_selection import cross_val_score\n",
    "from sklearn.model_selection import train_test_split\n",
    "from sklearn.model_selection import GridSearchCV\n",
    "from sklearn.externals import joblib\n",
    "\n",
    "from sklearn.preprocessing import StandardScaler\n",
    "from sklearn.preprocessing import MinMaxScaler"
   ]
  },
  {
   "cell_type": "code",
   "execution_count": 114,
   "metadata": {},
   "outputs": [],
   "source": [
    "import re\n",
    "# 格式为[ type, ...]\n",
    "def get_lin_type(type_list):\n",
    "    return_list = []\n",
    "    for i in range(len(type_list)-1):\n",
    "        if type_list[i] == 'para' and type_list[i+1] == 'para':\n",
    "            return_list.append(1)\n",
    "        else:\n",
    "            return_list.append(0)\n",
    "    return_list.append(0)\n",
    "    return return_list\n",
    "\n",
    "# 格式为[text, ...]\n",
    "def next_is_shiyong(text):\n",
    "    return_list = []\n",
    "    for i in range(len(text)-1):\n",
    "        if re.search('^□.*√.*', str(text[i+1])):\n",
    "            return_list.append(1)\n",
    "        else:\n",
    "            return_list.append(0)\n",
    "    return_list.append(0)\n",
    "    return return_list"
   ]
  },
  {
   "cell_type": "code",
   "execution_count": 121,
   "metadata": {},
   "outputs": [
    {
     "name": "stderr",
     "output_type": "stream",
     "text": [
      "/home/sunday/anaconda3/lib/python3.6/site-packages/ipykernel_launcher.py:31: FutureWarning: Sorting because non-concatenation axis is not aligned. A future version\n",
      "of pandas will change to not sort by default.\n",
      "\n",
      "To accept the future behavior, pass 'sort=True'.\n",
      "\n",
      "To retain the current behavior and silence the warning, pass sort=False\n",
      "\n"
     ]
    }
   ],
   "source": [
    "file1 = pd.read_csv('model5_return已标注段落.csv',encoding='gbk')\n",
    "file1['is_continue'] = get_lin_type(file1['type'].values)\n",
    "file1['is_next_shiyong'] = next_is_shiyong(file1['text'].values)\n",
    "file1 = file1.loc[file1['type']=='para']\n",
    "for i in ['x0','x1','y0','y1','top','bottom','doctop','size','height','width','adv']:\n",
    "    new_data = file1[i].tolist()[1:]\n",
    "    new_data.append(0)\n",
    "    file1[i+'_next'] = new_data\n",
    "    \n",
    "file2 = pd.read_csv('model6_return段落已标注.csv',encoding='gbk')\n",
    "file2['is_continue'] = get_lin_type(file2['type'].values)\n",
    "file2['is_next_shiyong'] = next_is_shiyong(file2['text'].values)\n",
    "file2 = file2.loc[file2['type']=='para']\n",
    "for i in ['x0','x1','y0','y1','top','bottom','doctop','size','height','width','adv']:\n",
    "    new_data = file2[i].tolist()[1:]\n",
    "    new_data.append(0)\n",
    "    file2[i+'_next'] = new_data\n",
    "    \n",
    "file3 = pd.read_csv('model8_return修正.csv',encoding='gbk')   \n",
    "file3['is_continue'] = get_lin_type(file3['type'].values)\n",
    "file3['is_next_shiyong'] = next_is_shiyong(file3['text'].values)\n",
    "file3 = file3.loc[file3['type'] == 'para']\n",
    "file3['continue'] = file3.apply(lambda x:x['is_para'] if str(x['xiuzheng']) == 'nan' else x['xiuzheng'], axis=1)\n",
    "file3.drop(['xiuzheng','is_para'], inplace=True, axis=1)\n",
    "file3 = file3.loc[file3['type']=='para']\n",
    "for i in ['x0','x1','y0','y1','top','bottom','doctop','size','height','width','adv']:\n",
    "    new_data = file3[i].tolist()[1:]\n",
    "    new_data.append(0)\n",
    "    file3[i+'_next'] = new_data\n",
    "    \n",
    "file = pd.concat([file1,file2,file3])"
   ]
  },
  {
   "cell_type": "code",
   "execution_count": 122,
   "metadata": {},
   "outputs": [
    {
     "name": "stdout",
     "output_type": "stream",
     "text": [
      "<class 'pandas.core.frame.DataFrame'>\n",
      "Int64Index: 692 entries, 0 to 2606\n",
      "Data columns (total 35 columns):\n",
      "Unnamed: 0            692 non-null int64\n",
      "adv                   692 non-null float64\n",
      "adv_next              692 non-null float64\n",
      "bottom                692 non-null float64\n",
      "bottom_next           692 non-null float64\n",
      "cod                   692 non-null int64\n",
      "continue              692 non-null float64\n",
      "doctop                692 non-null float64\n",
      "doctop_next           692 non-null float64\n",
      "fontname              692 non-null object\n",
      "height                692 non-null float64\n",
      "height_next           692 non-null float64\n",
      "is_continue           692 non-null int64\n",
      "is_next_shiyong       692 non-null int64\n",
      "non_stroking_color    692 non-null object\n",
      "object_type           692 non-null object\n",
      "page_number           692 non-null float64\n",
      "size                  692 non-null float64\n",
      "size_next             692 non-null float64\n",
      "stroking_color        521 non-null object\n",
      "text                  692 non-null object\n",
      "top                   692 non-null float64\n",
      "top_next              692 non-null float64\n",
      "type                  692 non-null object\n",
      "upright               692 non-null object\n",
      "width                 692 non-null float64\n",
      "width_next            692 non-null float64\n",
      "x0                    692 non-null float64\n",
      "x0_next               692 non-null float64\n",
      "x1                    692 non-null float64\n",
      "x1_next               692 non-null float64\n",
      "y0                    692 non-null float64\n",
      "y0_next               692 non-null float64\n",
      "y1                    692 non-null float64\n",
      "y1_next               692 non-null float64\n",
      "dtypes: float64(24), int64(4), object(7)\n",
      "memory usage: 194.6+ KB\n"
     ]
    }
   ],
   "source": [
    "file.info()"
   ]
  },
  {
   "cell_type": "code",
   "execution_count": 123,
   "metadata": {},
   "outputs": [],
   "source": [
    "para_data = file.loc[file['type']=='para']\n",
    "#file_next_value = para_data[['x0','x1','y0','y1','top','bottom','doctop','size','height','width','adv']]\n",
    "#file_next_value.rename(columns = {\n",
    "#    'x0':'x2','x1':'x3','y0':'y2','y1':'y3','top':'top1','bottom':'bottom1','size':'size1',\n",
    "#    'height':'height1','width':'width1','adv':'adv1'\n",
    "#}, inplace=True)\n"
   ]
  },
  {
   "cell_type": "code",
   "execution_count": 124,
   "metadata": {
    "scrolled": true
   },
   "outputs": [],
   "source": [
    "para_data['len_str'] = para_data['text'].apply(lambda x:len(x))"
   ]
  },
  {
   "cell_type": "code",
   "execution_count": 125,
   "metadata": {
    "scrolled": true
   },
   "outputs": [],
   "source": [
    "para_data['is_mulu'] = para_data['text'].apply(lambda x:1 if '......' in x else 0)"
   ]
  },
  {
   "cell_type": "code",
   "execution_count": 126,
   "metadata": {
    "scrolled": false
   },
   "outputs": [
    {
     "data": {
      "text/html": [
       "<div>\n",
       "<style scoped>\n",
       "    .dataframe tbody tr th:only-of-type {\n",
       "        vertical-align: middle;\n",
       "    }\n",
       "\n",
       "    .dataframe tbody tr th {\n",
       "        vertical-align: top;\n",
       "    }\n",
       "\n",
       "    .dataframe thead th {\n",
       "        text-align: right;\n",
       "    }\n",
       "</style>\n",
       "<table border=\"1\" class=\"dataframe\">\n",
       "  <thead>\n",
       "    <tr style=\"text-align: right;\">\n",
       "      <th></th>\n",
       "      <th>Unnamed: 0</th>\n",
       "      <th>adv</th>\n",
       "      <th>adv_next</th>\n",
       "      <th>bottom</th>\n",
       "      <th>bottom_next</th>\n",
       "      <th>cod</th>\n",
       "      <th>continue</th>\n",
       "      <th>doctop</th>\n",
       "      <th>doctop_next</th>\n",
       "      <th>fontname</th>\n",
       "      <th>...</th>\n",
       "      <th>x0</th>\n",
       "      <th>x0_next</th>\n",
       "      <th>x1</th>\n",
       "      <th>x1_next</th>\n",
       "      <th>y0</th>\n",
       "      <th>y0_next</th>\n",
       "      <th>y1</th>\n",
       "      <th>y1_next</th>\n",
       "      <th>len_str</th>\n",
       "      <th>is_mulu</th>\n",
       "    </tr>\n",
       "  </thead>\n",
       "  <tbody>\n",
       "    <tr>\n",
       "      <th>0</th>\n",
       "      <td>0</td>\n",
       "      <td>1.00</td>\n",
       "      <td>1.00</td>\n",
       "      <td>207.277</td>\n",
       "      <td>238.477</td>\n",
       "      <td>0</td>\n",
       "      <td>0.0</td>\n",
       "      <td>187.297</td>\n",
       "      <td>218.497</td>\n",
       "      <td>ZWIVFZ+FangSong</td>\n",
       "      <td>...</td>\n",
       "      <td>136.980</td>\n",
       "      <td>257.460</td>\n",
       "      <td>156.960</td>\n",
       "      <td>277.440</td>\n",
       "      <td>634.643</td>\n",
       "      <td>603.443</td>\n",
       "      <td>654.623</td>\n",
       "      <td>623.423</td>\n",
       "      <td>16</td>\n",
       "      <td>0</td>\n",
       "    </tr>\n",
       "    <tr>\n",
       "      <th>1</th>\n",
       "      <td>1</td>\n",
       "      <td>1.00</td>\n",
       "      <td>1.00</td>\n",
       "      <td>238.477</td>\n",
       "      <td>269.677</td>\n",
       "      <td>1</td>\n",
       "      <td>0.0</td>\n",
       "      <td>218.497</td>\n",
       "      <td>249.697</td>\n",
       "      <td>ZWIVFZ+FangSong</td>\n",
       "      <td>...</td>\n",
       "      <td>257.460</td>\n",
       "      <td>219.720</td>\n",
       "      <td>277.440</td>\n",
       "      <td>239.700</td>\n",
       "      <td>603.443</td>\n",
       "      <td>572.243</td>\n",
       "      <td>623.423</td>\n",
       "      <td>592.223</td>\n",
       "      <td>4</td>\n",
       "      <td>0</td>\n",
       "    </tr>\n",
       "    <tr>\n",
       "      <th>2</th>\n",
       "      <td>2</td>\n",
       "      <td>1.00</td>\n",
       "      <td>0.25</td>\n",
       "      <td>269.677</td>\n",
       "      <td>272.953</td>\n",
       "      <td>2</td>\n",
       "      <td>0.0</td>\n",
       "      <td>249.697</td>\n",
       "      <td>252.973</td>\n",
       "      <td>ZWIVFZ+FangSong</td>\n",
       "      <td>...</td>\n",
       "      <td>219.720</td>\n",
       "      <td>174.723</td>\n",
       "      <td>239.700</td>\n",
       "      <td>425.535</td>\n",
       "      <td>572.243</td>\n",
       "      <td>568.958</td>\n",
       "      <td>592.223</td>\n",
       "      <td>588.947</td>\n",
       "      <td>10</td>\n",
       "      <td>0</td>\n",
       "    </tr>\n",
       "    <tr>\n",
       "      <th>3</th>\n",
       "      <td>3</td>\n",
       "      <td>0.25</td>\n",
       "      <td>1.00</td>\n",
       "      <td>272.953</td>\n",
       "      <td>407.987</td>\n",
       "      <td>3</td>\n",
       "      <td>0.0</td>\n",
       "      <td>252.973</td>\n",
       "      <td>391.967</td>\n",
       "      <td>TimesNewRomanPS-BoldMT</td>\n",
       "      <td>...</td>\n",
       "      <td>174.723</td>\n",
       "      <td>169.140</td>\n",
       "      <td>425.535</td>\n",
       "      <td>185.160</td>\n",
       "      <td>568.958</td>\n",
       "      <td>431.305</td>\n",
       "      <td>588.947</td>\n",
       "      <td>447.325</td>\n",
       "      <td>4</td>\n",
       "      <td>0</td>\n",
       "    </tr>\n",
       "    <tr>\n",
       "      <th>4</th>\n",
       "      <td>4</td>\n",
       "      <td>1.00</td>\n",
       "      <td>1.00</td>\n",
       "      <td>407.987</td>\n",
       "      <td>433.188</td>\n",
       "      <td>4</td>\n",
       "      <td>0.0</td>\n",
       "      <td>391.967</td>\n",
       "      <td>421.188</td>\n",
       "      <td>ZWIVFZ+FangSong</td>\n",
       "      <td>...</td>\n",
       "      <td>169.140</td>\n",
       "      <td>192.660</td>\n",
       "      <td>185.160</td>\n",
       "      <td>204.660</td>\n",
       "      <td>431.305</td>\n",
       "      <td>407.016</td>\n",
       "      <td>447.325</td>\n",
       "      <td>419.016</td>\n",
       "      <td>16</td>\n",
       "      <td>0</td>\n",
       "    </tr>\n",
       "  </tbody>\n",
       "</table>\n",
       "<p>5 rows × 37 columns</p>\n",
       "</div>"
      ],
      "text/plain": [
       "   Unnamed: 0   adv  adv_next   bottom  bottom_next  cod  continue   doctop  \\\n",
       "0           0  1.00      1.00  207.277      238.477    0       0.0  187.297   \n",
       "1           1  1.00      1.00  238.477      269.677    1       0.0  218.497   \n",
       "2           2  1.00      0.25  269.677      272.953    2       0.0  249.697   \n",
       "3           3  0.25      1.00  272.953      407.987    3       0.0  252.973   \n",
       "4           4  1.00      1.00  407.987      433.188    4       0.0  391.967   \n",
       "\n",
       "   doctop_next                fontname   ...         x0  x0_next       x1  \\\n",
       "0      218.497         ZWIVFZ+FangSong   ...    136.980  257.460  156.960   \n",
       "1      249.697         ZWIVFZ+FangSong   ...    257.460  219.720  277.440   \n",
       "2      252.973         ZWIVFZ+FangSong   ...    219.720  174.723  239.700   \n",
       "3      391.967  TimesNewRomanPS-BoldMT   ...    174.723  169.140  425.535   \n",
       "4      421.188         ZWIVFZ+FangSong   ...    169.140  192.660  185.160   \n",
       "\n",
       "   x1_next       y0  y0_next       y1  y1_next  len_str is_mulu  \n",
       "0  277.440  634.643  603.443  654.623  623.423       16       0  \n",
       "1  239.700  603.443  572.243  623.423  592.223        4       0  \n",
       "2  425.535  572.243  568.958  592.223  588.947       10       0  \n",
       "3  185.160  568.958  431.305  588.947  447.325        4       0  \n",
       "4  204.660  431.305  407.016  447.325  419.016       16       0  \n",
       "\n",
       "[5 rows x 37 columns]"
      ]
     },
     "execution_count": 126,
     "metadata": {},
     "output_type": "execute_result"
    }
   ],
   "source": [
    "para_data.head()"
   ]
  },
  {
   "cell_type": "code",
   "execution_count": 127,
   "metadata": {
    "scrolled": true
   },
   "outputs": [
    {
     "data": {
      "text/plain": [
       "Index(['Unnamed: 0', 'adv', 'adv_next', 'bottom', 'bottom_next', 'cod',\n",
       "       'continue', 'doctop', 'doctop_next', 'fontname', 'height',\n",
       "       'height_next', 'is_continue', 'is_next_shiyong', 'non_stroking_color',\n",
       "       'object_type', 'page_number', 'size', 'size_next', 'stroking_color',\n",
       "       'text', 'top', 'top_next', 'type', 'upright', 'width', 'width_next',\n",
       "       'x0', 'x0_next', 'x1', 'x1_next', 'y0', 'y0_next', 'y1', 'y1_next',\n",
       "       'len_str', 'is_mulu'],\n",
       "      dtype='object')"
      ]
     },
     "execution_count": 127,
     "metadata": {},
     "output_type": "execute_result"
    }
   ],
   "source": [
    "para_data.columns"
   ]
  },
  {
   "cell_type": "code",
   "execution_count": 128,
   "metadata": {
    "scrolled": true
   },
   "outputs": [],
   "source": [
    "para_data.drop(['Unnamed: 0','fontname','text','object_type','upright','type','cod','page_number'],axis=1,inplace=True)"
   ]
  },
  {
   "cell_type": "code",
   "execution_count": 129,
   "metadata": {},
   "outputs": [],
   "source": [
    "para_data.drop(['non_stroking_color','stroking_color'],axis=1,inplace=True)"
   ]
  },
  {
   "cell_type": "code",
   "execution_count": 16,
   "metadata": {},
   "outputs": [
    {
     "name": "stderr",
     "output_type": "stream",
     "text": [
      "/home/sunday/anaconda3/lib/python3.6/site-packages/ipykernel_launcher.py:10: SettingWithCopyWarning: \n",
      "A value is trying to be set on a copy of a slice from a DataFrame.\n",
      "Try using .loc[row_indexer,col_indexer] = value instead\n",
      "\n",
      "See the caveats in the documentation: http://pandas.pydata.org/pandas-docs/stable/indexing.html#indexing-view-versus-copy\n",
      "  # Remove the CWD from sys.path while we load stuff.\n",
      "/home/sunday/anaconda3/lib/python3.6/site-packages/pandas/core/indexing.py:543: SettingWithCopyWarning: \n",
      "A value is trying to be set on a copy of a slice from a DataFrame.\n",
      "Try using .loc[row_indexer,col_indexer] = value instead\n",
      "\n",
      "See the caveats in the documentation: http://pandas.pydata.org/pandas-docs/stable/indexing.html#indexing-view-versus-copy\n",
      "  self.obj[item] = s\n"
     ]
    }
   ],
   "source": [
    "# 归一化处理\n",
    "clf = MinMaxScaler().fit_transform(para_data[['bottom', 'doctop', 'height', 'size',\n",
    "       'top', 'width', 'x0', 'x1', 'y0', 'y1', 'x0_next', 'x1_next', 'y0_next',\n",
    "       'y1_next', 'top_next', 'bottom_next', 'doctop_next', 'size_next',\n",
    "       'height_next', 'width_next', 'adv_next']])\n",
    "\n",
    "para_data[['bottom', 'doctop', 'height', 'size',\n",
    "       'top', 'width', 'x0', 'x1', 'y0', 'y1', 'x0_next', 'x1_next', 'y0_next',\n",
    "       'y1_next', 'top_next', 'bottom_next', 'doctop_next', 'size_next',\n",
    "       'height_next', 'width_next', 'adv_next']] = clf\n"
   ]
  },
  {
   "cell_type": "code",
   "execution_count": 130,
   "metadata": {
    "scrolled": false
   },
   "outputs": [
    {
     "data": {
      "text/html": [
       "<div>\n",
       "<style scoped>\n",
       "    .dataframe tbody tr th:only-of-type {\n",
       "        vertical-align: middle;\n",
       "    }\n",
       "\n",
       "    .dataframe tbody tr th {\n",
       "        vertical-align: top;\n",
       "    }\n",
       "\n",
       "    .dataframe thead th {\n",
       "        text-align: right;\n",
       "    }\n",
       "</style>\n",
       "<table border=\"1\" class=\"dataframe\">\n",
       "  <thead>\n",
       "    <tr style=\"text-align: right;\">\n",
       "      <th></th>\n",
       "      <th>adv</th>\n",
       "      <th>adv_next</th>\n",
       "      <th>bottom</th>\n",
       "      <th>bottom_next</th>\n",
       "      <th>continue</th>\n",
       "      <th>doctop</th>\n",
       "      <th>doctop_next</th>\n",
       "      <th>height</th>\n",
       "      <th>height_next</th>\n",
       "      <th>is_continue</th>\n",
       "      <th>...</th>\n",
       "      <th>x0</th>\n",
       "      <th>x0_next</th>\n",
       "      <th>x1</th>\n",
       "      <th>x1_next</th>\n",
       "      <th>y0</th>\n",
       "      <th>y0_next</th>\n",
       "      <th>y1</th>\n",
       "      <th>y1_next</th>\n",
       "      <th>len_str</th>\n",
       "      <th>is_mulu</th>\n",
       "    </tr>\n",
       "  </thead>\n",
       "  <tbody>\n",
       "    <tr>\n",
       "      <th>0</th>\n",
       "      <td>1.00</td>\n",
       "      <td>1.00</td>\n",
       "      <td>207.277</td>\n",
       "      <td>238.477</td>\n",
       "      <td>0.0</td>\n",
       "      <td>187.297</td>\n",
       "      <td>218.497</td>\n",
       "      <td>19.98</td>\n",
       "      <td>19.98</td>\n",
       "      <td>1</td>\n",
       "      <td>...</td>\n",
       "      <td>136.980</td>\n",
       "      <td>257.460</td>\n",
       "      <td>156.960</td>\n",
       "      <td>277.440</td>\n",
       "      <td>634.643</td>\n",
       "      <td>603.443</td>\n",
       "      <td>654.623</td>\n",
       "      <td>623.423</td>\n",
       "      <td>16</td>\n",
       "      <td>0</td>\n",
       "    </tr>\n",
       "    <tr>\n",
       "      <th>1</th>\n",
       "      <td>1.00</td>\n",
       "      <td>1.00</td>\n",
       "      <td>238.477</td>\n",
       "      <td>269.677</td>\n",
       "      <td>0.0</td>\n",
       "      <td>218.497</td>\n",
       "      <td>249.697</td>\n",
       "      <td>19.98</td>\n",
       "      <td>19.98</td>\n",
       "      <td>1</td>\n",
       "      <td>...</td>\n",
       "      <td>257.460</td>\n",
       "      <td>219.720</td>\n",
       "      <td>277.440</td>\n",
       "      <td>239.700</td>\n",
       "      <td>603.443</td>\n",
       "      <td>572.243</td>\n",
       "      <td>623.423</td>\n",
       "      <td>592.223</td>\n",
       "      <td>4</td>\n",
       "      <td>0</td>\n",
       "    </tr>\n",
       "    <tr>\n",
       "      <th>2</th>\n",
       "      <td>1.00</td>\n",
       "      <td>0.25</td>\n",
       "      <td>269.677</td>\n",
       "      <td>272.953</td>\n",
       "      <td>0.0</td>\n",
       "      <td>249.697</td>\n",
       "      <td>252.973</td>\n",
       "      <td>19.98</td>\n",
       "      <td>19.98</td>\n",
       "      <td>1</td>\n",
       "      <td>...</td>\n",
       "      <td>219.720</td>\n",
       "      <td>174.723</td>\n",
       "      <td>239.700</td>\n",
       "      <td>425.535</td>\n",
       "      <td>572.243</td>\n",
       "      <td>568.958</td>\n",
       "      <td>592.223</td>\n",
       "      <td>588.947</td>\n",
       "      <td>10</td>\n",
       "      <td>0</td>\n",
       "    </tr>\n",
       "    <tr>\n",
       "      <th>3</th>\n",
       "      <td>0.25</td>\n",
       "      <td>1.00</td>\n",
       "      <td>272.953</td>\n",
       "      <td>407.987</td>\n",
       "      <td>0.0</td>\n",
       "      <td>252.973</td>\n",
       "      <td>391.967</td>\n",
       "      <td>19.98</td>\n",
       "      <td>16.02</td>\n",
       "      <td>1</td>\n",
       "      <td>...</td>\n",
       "      <td>174.723</td>\n",
       "      <td>169.140</td>\n",
       "      <td>425.535</td>\n",
       "      <td>185.160</td>\n",
       "      <td>568.958</td>\n",
       "      <td>431.305</td>\n",
       "      <td>588.947</td>\n",
       "      <td>447.325</td>\n",
       "      <td>4</td>\n",
       "      <td>0</td>\n",
       "    </tr>\n",
       "    <tr>\n",
       "      <th>4</th>\n",
       "      <td>1.00</td>\n",
       "      <td>1.00</td>\n",
       "      <td>407.987</td>\n",
       "      <td>433.188</td>\n",
       "      <td>0.0</td>\n",
       "      <td>391.967</td>\n",
       "      <td>421.188</td>\n",
       "      <td>16.02</td>\n",
       "      <td>12.00</td>\n",
       "      <td>1</td>\n",
       "      <td>...</td>\n",
       "      <td>169.140</td>\n",
       "      <td>192.660</td>\n",
       "      <td>185.160</td>\n",
       "      <td>204.660</td>\n",
       "      <td>431.305</td>\n",
       "      <td>407.016</td>\n",
       "      <td>447.325</td>\n",
       "      <td>419.016</td>\n",
       "      <td>16</td>\n",
       "      <td>0</td>\n",
       "    </tr>\n",
       "  </tbody>\n",
       "</table>\n",
       "<p>5 rows × 27 columns</p>\n",
       "</div>"
      ],
      "text/plain": [
       "    adv  adv_next   bottom  bottom_next  continue   doctop  doctop_next  \\\n",
       "0  1.00      1.00  207.277      238.477       0.0  187.297      218.497   \n",
       "1  1.00      1.00  238.477      269.677       0.0  218.497      249.697   \n",
       "2  1.00      0.25  269.677      272.953       0.0  249.697      252.973   \n",
       "3  0.25      1.00  272.953      407.987       0.0  252.973      391.967   \n",
       "4  1.00      1.00  407.987      433.188       0.0  391.967      421.188   \n",
       "\n",
       "   height  height_next  is_continue   ...          x0  x0_next       x1  \\\n",
       "0   19.98        19.98            1   ...     136.980  257.460  156.960   \n",
       "1   19.98        19.98            1   ...     257.460  219.720  277.440   \n",
       "2   19.98        19.98            1   ...     219.720  174.723  239.700   \n",
       "3   19.98        16.02            1   ...     174.723  169.140  425.535   \n",
       "4   16.02        12.00            1   ...     169.140  192.660  185.160   \n",
       "\n",
       "   x1_next       y0  y0_next       y1  y1_next  len_str  is_mulu  \n",
       "0  277.440  634.643  603.443  654.623  623.423       16        0  \n",
       "1  239.700  603.443  572.243  623.423  592.223        4        0  \n",
       "2  425.535  572.243  568.958  592.223  588.947       10        0  \n",
       "3  185.160  568.958  431.305  588.947  447.325        4        0  \n",
       "4  204.660  431.305  407.016  447.325  419.016       16        0  \n",
       "\n",
       "[5 rows x 27 columns]"
      ]
     },
     "execution_count": 130,
     "metadata": {},
     "output_type": "execute_result"
    }
   ],
   "source": [
    "para_data.head()"
   ]
  },
  {
   "cell_type": "code",
   "execution_count": 131,
   "metadata": {},
   "outputs": [],
   "source": [
    "y_file = para_data['continue']\n",
    "x_file = para_data.drop('continue', axis=1)"
   ]
  },
  {
   "cell_type": "code",
   "execution_count": 132,
   "metadata": {},
   "outputs": [
    {
     "name": "stdout",
     "output_type": "stream",
     "text": [
      "0.8984520764827669\n"
     ]
    },
    {
     "data": {
      "image/png": "[encoded data removed]",
      "text/plain": [
       "<Figure size 432x288 with 1 Axes>"
      ]
     },
     "metadata": {},
     "output_type": "display_data"
    }
   ],
   "source": [
    "score_list = []\n",
    "\n",
    "for i in range(100):\n",
    "    clf = RandomForestClassifier(max_depth=1+i,criterion='entropy')\n",
    "    score = cross_val_score(clf,x_file, y_file, cv =10)\n",
    "    score_list.append(score.mean())\n",
    "    \n",
    "print(max(score_list))\n",
    "plt.plot(range(1,101),score_list)\n",
    "plt.show()"
   ]
  },
  {
   "cell_type": "code",
   "execution_count": 133,
   "metadata": {},
   "outputs": [
    {
     "name": "stdout",
     "output_type": "stream",
     "text": [
      "0.9174199244915358\n"
     ]
    },
    {
     "data": {
      "image/png": "[encoded data removed]",
      "text/plain": [
       "<Figure size 432x288 with 1 Axes>"
      ]
     },
     "metadata": {},
     "output_type": "display_data"
    }
   ],
   "source": [
    "score_list = []\n",
    "\n",
    "for i in range(100):\n",
    "    clf = RandomForestClassifier(max_depth=1+i,criterion='gini')\n",
    "    score = cross_val_score(clf,x_file, y_file, cv =10)\n",
    "    score_list.append(score.mean())\n",
    "    \n",
    "print(max(score_list))\n",
    "plt.plot(range(1,101),score_list)\n",
    "plt.show()"
   ]
  },
  {
   "cell_type": "code",
   "execution_count": 138,
   "metadata": {},
   "outputs": [],
   "source": [
    "parameters = {\n",
    "    'n_estimators':[*range(1,20)],\n",
    "    'max_features':[*range(1,20)],\n",
    "    #'criterion':['gini'],\n",
    "    'max_depth':[*range(1,10)],\n",
    "    #'max_features':['auto','sqrt','log2',None],\n",
    "    #'min_samples_split':[*np.linspace(0.00000001,1,50)]\n",
    "}\n",
    "\n",
    "\n",
    "rfc = RandomForestClassifier()\n",
    "gs = GridSearchCV(rfc, parameters, cv=10)"
   ]
  },
  {
   "cell_type": "code",
   "execution_count": 139,
   "metadata": {
    "scrolled": true
   },
   "outputs": [
    {
     "data": {
      "text/plain": [
       "GridSearchCV(cv=10, error_score='raise',\n",
       "       estimator=RandomForestClassifier(bootstrap=True, class_weight=None, criterion='gini',\n",
       "            max_depth=None, max_features='auto', max_leaf_nodes=None,\n",
       "            min_impurity_decrease=0.0, min_impurity_split=None,\n",
       "            min_samples_leaf=1, min_samples_split=2,\n",
       "            min_weight_fraction_leaf=0.0, n_estimators=10, n_jobs=1,\n",
       "            oob_score=False, random_state=None, verbose=0,\n",
       "            warm_start=False),\n",
       "       fit_params=None, iid=True, n_jobs=1,\n",
       "       param_grid={'n_estimators': [1, 2, 3, 4, 5, 6, 7, 8, 9, 10, 11, 12, 13, 14, 15, 16, 17, 18, 19], 'max_features': [1, 2, 3, 4, 5, 6, 7, 8, 9, 10, 11, 12, 13, 14, 15, 16, 17, 18, 19], 'max_depth': [1, 2, 3, 4, 5, 6, 7, 8, 9]},\n",
       "       pre_dispatch='2*n_jobs', refit=True, return_train_score='warn',\n",
       "       scoring=None, verbose=0)"
      ]
     },
     "execution_count": 139,
     "metadata": {},
     "output_type": "execute_result"
    }
   ],
   "source": [
    "gs.fit(x_file,y_file)"
   ]
  },
  {
   "cell_type": "code",
   "execution_count": 151,
   "metadata": {},
   "outputs": [
    {
     "data": {
      "text/plain": [
       "Index(['adv', 'adv_next', 'bottom', 'bottom_next', 'doctop', 'doctop_next',\n",
       "       'height', 'height_next', 'is_continue', 'is_next_shiyong', 'size',\n",
       "       'size_next', 'top', 'top_next', 'width', 'width_next', 'x0', 'x0_next',\n",
       "       'x1', 'x1_next', 'y0', 'y0_next', 'y1', 'y1_next', 'len_str',\n",
       "       'is_mulu'],\n",
       "      dtype='object')"
      ]
     },
     "execution_count": 151,
     "metadata": {},
     "output_type": "execute_result"
    }
   ],
   "source": [
    "x_file.columns"
   ]
  },
  {
   "cell_type": "code",
   "execution_count": 140,
   "metadata": {},
   "outputs": [
    {
     "data": {
      "text/plain": [
       "0.9595375722543352"
      ]
     },
     "execution_count": 140,
     "metadata": {},
     "output_type": "execute_result"
    }
   ],
   "source": [
    "gs.best_score_"
   ]
  },
  {
   "cell_type": "code",
   "execution_count": 142,
   "metadata": {},
   "outputs": [
    {
     "data": {
      "text/plain": [
       "{'max_depth': 3, 'max_features': 14, 'n_estimators': 14}"
      ]
     },
     "execution_count": 142,
     "metadata": {},
     "output_type": "execute_result"
    }
   ],
   "source": [
    "gs.best_params_"
   ]
  },
  {
   "cell_type": "code",
   "execution_count": 150,
   "metadata": {},
   "outputs": [
    {
     "data": {
      "text/plain": [
       "['para.pkl']"
      ]
     },
     "execution_count": 150,
     "metadata": {},
     "output_type": "execute_result"
    }
   ],
   "source": [
    "joblib.dump(gs.best_estimator_, 'para.pkl')"
   ]
  },
  {
   "cell_type": "code",
   "execution_count": 144,
   "metadata": {},
   "outputs": [],
   "source": [
    "from sklearn import svm"
   ]
  },
  {
   "cell_type": "code",
   "execution_count": 147,
   "metadata": {},
   "outputs": [
    {
     "name": "stdout",
     "output_type": "stream",
     "text": [
      "0.9420289855072463\n"
     ]
    },
    {
     "data": {
      "image/png": "[encoded data removed]",
      "text/plain": [
       "<Figure size 432x288 with 1 Axes>"
      ]
     },
     "metadata": {},
     "output_type": "display_data"
    }
   ],
   "source": [
    "clf = svm.LinearSVC()\n",
    "score = cross_val_score(clf,x_file, y_file, cv =10)\n",
    "score\n",
    "    \n",
    "print(max(score))\n",
    "plt.plot(range(1,11),score)\n",
    "plt.show()"
   ]
  },
  {
   "cell_type": "code",
   "execution_count": 149,
   "metadata": {},
   "outputs": [
    {
     "data": {
      "text/plain": [
       "RandomForestClassifier(bootstrap=True, class_weight=None, criterion='gini',\n",
       "            max_depth=3, max_features=14, max_leaf_nodes=None,\n",
       "            min_impurity_decrease=0.0, min_impurity_split=None,\n",
       "            min_samples_leaf=1, min_samples_split=2,\n",
       "            min_weight_fraction_leaf=0.0, n_estimators=14, n_jobs=1,\n",
       "            oob_score=False, random_state=None, verbose=0,\n",
       "            warm_start=False)"
      ]
     },
     "execution_count": 149,
     "metadata": {},
     "output_type": "execute_result"
    }
   ],
   "source": [
    "gs.best_estimator_"
   ]
  },
  {
   "cell_type": "code",
   "execution_count": 141,
   "metadata": {},
   "outputs": [
    {
     "data": {
      "text/plain": [
       "{'max_depth': 3, 'max_features': 14, 'n_estimators': 14}"
      ]
     },
     "execution_count": 141,
     "metadata": {},
     "output_type": "execute_result"
    }
   ],
   "source": [
    "gs.best_params_"
   ]
  },
  {
   "cell_type": "code",
   "execution_count": 142,
   "metadata": {},
   "outputs": [
    {
     "data": {
      "image/png": "[encoded data removed]",
      "text/plain": [
       "<Figure size 432x288 with 1 Axes>"
      ]
     },
     "metadata": {},
     "output_type": "display_data"
    }
   ],
   "source": [
    "score_list = []\n",
    "\n",
    "for i in range(1,25):\n",
    "    rfc = RandomForestClassifier(max_depth=6, max_features=i, n_estimators=94)\n",
    "    rfc = cross_val_score(rfc,x_file,y_file,cv=10)\n",
    "    score_list.append(rfc.mean())\n",
    "\n",
    "plt.plot(range(1,25),score_list)\n",
    "plt.show()\n"
   ]
  },
  {
   "cell_type": "code",
   "execution_count": 143,
   "metadata": {},
   "outputs": [
    {
     "data": {
      "text/plain": [
       "0.9674193548387097"
      ]
     },
     "execution_count": 143,
     "metadata": {},
     "output_type": "execute_result"
    }
   ],
   "source": [
    "max(score_list)"
   ]
  },
  {
   "cell_type": "code",
   "execution_count": 144,
   "metadata": {},
   "outputs": [
    {
     "data": {
      "text/plain": [
       "24"
      ]
     },
     "execution_count": 144,
     "metadata": {},
     "output_type": "execute_result"
    }
   ],
   "source": [
    "len(score_list)"
   ]
  },
  {
   "cell_type": "code",
   "execution_count": 148,
   "metadata": {},
   "outputs": [
    {
     "data": {
      "text/plain": [
       "Index(['adv', 'bottom', 'cod', 'doctop', 'height', 'page_number', 'size',\n",
       "       'top', 'width', 'x0', 'x1', 'y0', 'y1', 'x0_next', 'x1_next', 'y0_next',\n",
       "       'y1_next', 'top_next', 'bottom_next', 'doctop_next', 'size_next',\n",
       "       'height_next', 'width_next', 'adv_next', 'len_str', 'is_mulu'],\n",
       "      dtype='object')"
      ]
     },
     "execution_count": 148,
     "metadata": {},
     "output_type": "execute_result"
    }
   ],
   "source": [
    "x_file.columns"
   ]
  },
  {
   "cell_type": "code",
   "execution_count": null,
   "metadata": {},
   "outputs": [],
   "source": []
  }
 ],
 "metadata": {
  "kernelspec": {
   "display_name": "Python 3",
   "language": "python",
   "name": "python3"
  },
  "language_info": {
   "codemirror_mode": {
    "name": "ipython",
    "version": 3
   },
   "file_extension": ".py",
   "mimetype": "text/x-python",
   "name": "python",
   "nbconvert_exporter": "python",
   "pygments_lexer": "ipython3",
   "version": "3.6.5"
  }
 },
 "nbformat": 4,
 "nbformat_minor": 2
}
